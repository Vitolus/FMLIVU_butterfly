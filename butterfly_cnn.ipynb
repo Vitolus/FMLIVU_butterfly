{
 "cells": [
  {
   "metadata": {},
   "cell_type": "markdown",
   "source": [
    "# This is the classifier for the butterfly dataset\n",
    "\n",
    "Below there is the machine learning workflow pipeline"
   ],
   "id": "6639a3ac879c7816"
  },
  {
   "metadata": {},
   "cell_type": "markdown",
   "source": "Import packages",
   "id": "4dc1a8e4e90a8d9c"
  },
  {
   "metadata": {
    "ExecuteTime": {
     "end_time": "2024-06-25T17:54:02.303651Z",
     "start_time": "2024-06-25T17:54:02.300898Z"
    }
   },
   "cell_type": "code",
   "source": [
    "import mlcroissant as mlc\n",
    "import tensorflow_datasets as tfds\n",
    "import pandas as pd\n",
    "import matplotlib.pyplot as plt\n",
    "import numpy as np"
   ],
   "id": "2c7f966e18fbc4b5",
   "outputs": [],
   "execution_count": 15
  },
  {
   "metadata": {
    "ExecuteTime": {
     "end_time": "2024-06-25T17:38:45.965767Z",
     "start_time": "2024-06-25T17:38:45.361308Z"
    }
   },
   "cell_type": "code",
   "source": [
    "# 1. Point to a local or remote Croissant file\n",
    "url = \"https://huggingface.co/api/datasets/fashion_mnist/croissant\"\n",
    "# 2. Inspect metadata\n",
    "print(mlc.Dataset(url).metadata.to_json())"
   ],
   "id": "e5106c92c571e39",
   "outputs": [
    {
     "name": "stderr",
     "output_type": "stream",
     "text": [
      "WARNING:absl:WARNING: The JSON-LD `@context` is not standard. Refer to the official @context (e.g., from the example datasets in https://github.com/mlcommons/croissant/tree/main/datasets/1.0). The different keys are: {'examples', 'rai'}\n",
      "WARNING:absl:Found the following 3 warning(s) during the validation:\n",
      "  -  [Metadata(fashion_mnist)] Property \"http://mlcommons.org/croissant/citeAs\" is recommended, but does not exist.\n",
      "  -  [Metadata(fashion_mnist)] Property \"https://schema.org/datePublished\" is recommended, but does not exist.\n",
      "  -  [Metadata(fashion_mnist)] Property \"https://schema.org/version\" is recommended, but does not exist.\n"
     ]
    },
    {
     "name": "stdout",
     "output_type": "stream",
     "text": [
      "{'@context': {'@language': 'en', '@vocab': 'https://schema.org/', 'citeAs': 'cr:citeAs', 'column': 'cr:column', 'conformsTo': 'dct:conformsTo', 'cr': 'http://mlcommons.org/croissant/', 'data': {'@id': 'cr:data', '@type': '@json'}, 'dataBiases': 'cr:dataBiases', 'dataCollection': 'cr:dataCollection', 'dataType': {'@id': 'cr:dataType', '@type': '@vocab'}, 'dct': 'http://purl.org/dc/terms/', 'extract': 'cr:extract', 'field': 'cr:field', 'fileProperty': 'cr:fileProperty', 'fileObject': 'cr:fileObject', 'fileSet': 'cr:fileSet', 'format': 'cr:format', 'includes': 'cr:includes', 'isLiveDataset': 'cr:isLiveDataset', 'jsonPath': 'cr:jsonPath', 'key': 'cr:key', 'md5': 'cr:md5', 'parentField': 'cr:parentField', 'path': 'cr:path', 'personalSensitiveInformation': 'cr:personalSensitiveInformation', 'recordSet': 'cr:recordSet', 'references': 'cr:references', 'regex': 'cr:regex', 'repeated': 'cr:repeated', 'replace': 'cr:replace', 'sc': 'https://schema.org/', 'separator': 'cr:separator', 'source': 'cr:source', 'subField': 'cr:subField', 'transform': 'cr:transform'}, '@type': 'sc:Dataset', 'name': 'fashion_mnist', 'description': \"Fashion-MNIST is a dataset of Zalando's article images—consisting of a training set of\\n60,000 examples and a test set of 10,000 examples. Each example is a 28x28 grayscale image,\\nassociated with a label from 10 classes. We intend Fashion-MNIST to serve as a direct drop-in\\nreplacement for the original MNIST dataset for benchmarking machine learning algorithms.\\nIt shares the same image size and structure of training and testing splits.\", 'conformsTo': 'http://mlcommons.org/croissant/1.0', 'creator': {'@type': 'sc:Organization', 'name': 'zalando-datasets', 'url': 'https://huggingface.co/zalando-datasets'}, 'keywords': ['image-classification', 'multi-class-image-classification', 'expert-generated', 'found', 'monolingual', 'original', 'English', 'mit', '10K<n<100K', 'Image', 'Datasets', 'Croissant', 'arxiv:1708.07747', '🇺🇸 Region: US'], 'license': 'https://choosealicense.com/licenses/mit/', 'sameAs': 'https://github.com/zalandoresearch/fashion-mnist', 'url': 'https://huggingface.co/datasets/zalando-datasets/fashion_mnist', 'distribution': [{'@type': 'cr:FileObject', '@id': 'repo', 'name': 'repo', 'description': 'The Hugging Face git repository.', 'contentUrl': 'https://huggingface.co/datasets/zalando-datasets/fashion_mnist/tree/refs%2Fconvert%2Fparquet', 'encodingFormat': 'git+https', 'sha256': 'https://github.com/mlcommons/croissant/issues/80'}, {'@type': 'cr:FileSet', '@id': 'parquet-files-for-config-fashion_mnist', 'name': 'parquet-files-for-config-fashion_mnist', 'description': 'The underlying Parquet files as converted by Hugging Face (see: https://huggingface.co/docs/datasets-server/parquet).', 'containedIn': {'@id': 'repo'}, 'encodingFormat': 'application/x-parquet', 'includes': 'fashion_mnist/*/*.parquet'}], 'recordSet': [{'@type': 'cr:RecordSet', '@id': 'fashion_mnist', 'name': 'fashion_mnist', 'description': \"zalando-datasets/fashion_mnist - 'fashion_mnist' subset\\n\\nAdditional information:\\n- 2 splits: train, test\", 'field': [{'@type': 'cr:Field', '@id': 'fashion_mnist/image', 'name': 'fashion_mnist/image', 'description': \"Image column 'image' from the Hugging Face parquet file.\", 'dataType': 'sc:ImageObject', 'source': {'fileSet': {'@id': 'parquet-files-for-config-fashion_mnist'}, 'extract': {'column': 'image'}, 'transform': {'jsonPath': 'bytes'}}}, {'@type': 'cr:Field', '@id': 'fashion_mnist/label', 'name': 'fashion_mnist/label', 'description': \"ClassLabel column 'label' from the Hugging Face parquet file.\\nLabels:\\nT - shirt / top (0), Trouser (1), Pullover (2), Dress (3), Coat (4), Sandal (5), Shirt (6), Sneaker (7), Bag (8), Ankle boot (9)\", 'dataType': 'sc:Integer', 'source': {'fileSet': {'@id': 'parquet-files-for-config-fashion_mnist'}, 'extract': {'column': 'label'}}}]}]}\n"
     ]
    }
   ],
   "execution_count": 2
  },
  {
   "metadata": {
    "ExecuteTime": {
     "end_time": "2024-06-25T17:39:06.515733Z",
     "start_time": "2024-06-25T17:39:05.942991Z"
    }
   },
   "cell_type": "code",
   "source": [
    "# 3. Use Croissant dataset in your ML workload\n",
    "builder = tfds.dataset_builders.CroissantBuilder(jsonld=url, file_format='array_record')\n",
    "builder.download_and_prepare()"
   ],
   "id": "b4bf2bab6bbf1336",
   "outputs": [
    {
     "name": "stderr",
     "output_type": "stream",
     "text": [
      "WARNING:absl:WARNING: The JSON-LD `@context` is not standard. Refer to the official @context (e.g., from the example datasets in https://github.com/mlcommons/croissant/tree/main/datasets/1.0). The different keys are: {'examples', 'rai'}\n",
      "WARNING:absl:Found the following 3 warning(s) during the validation:\n",
      "  -  [Metadata(fashion_mnist)] Property \"http://mlcommons.org/croissant/citeAs\" is recommended, but does not exist.\n",
      "  -  [Metadata(fashion_mnist)] Property \"https://schema.org/datePublished\" is recommended, but does not exist.\n",
      "  -  [Metadata(fashion_mnist)] Property \"https://schema.org/version\" is recommended, but does not exist.\n",
      "WARNING:absl:Using custom data configuration fashion_mnist\n"
     ]
    }
   ],
   "execution_count": 3
  },
  {
   "metadata": {
    "ExecuteTime": {
     "end_time": "2024-06-25T17:54:35.649195Z",
     "start_time": "2024-06-25T17:54:05.860648Z"
    }
   },
   "cell_type": "code",
   "source": [
    "# 4. Split for training/testing\n",
    "train, test = builder.as_data_source(split=['default[:80%]', 'default[80%:]'])\n",
    "# 5. Display train and test\n",
    "# use pandas to display the data\n",
    "train_df = pd.DataFrame(train)\n",
    "image_rgb = np.array(train_df.loc[0, 'fashion_mnist/image'])\n",
    "\n",
    "# Display the image\n",
    "plt.imshow(image_rgb)\n",
    "plt.show()\n",
    "test_df = pd.DataFrame(test)\n",
    "print(train_df.head())\n",
    "print(test_df.head())"
   ],
   "id": "34253c02f79ff342",
   "outputs": [
    {
     "data": {
      "text/plain": [
       "<Figure size 640x480 with 1 Axes>"
      ],
      "image/png": "[encoded data removed]"
     },
     "metadata": {},
     "output_type": "display_data"
    },
    {
     "name": "stdout",
     "output_type": "stream",
     "text": [
      "                                 fashion_mnist/image  fashion_mnist/label\n",
      "0  [[[0, 0, 0], [0, 0, 0], [0, 0, 0], [0, 0, 0], ...                    6\n",
      "1  [[[0, 0, 0], [0, 0, 0], [0, 0, 0], [0, 0, 0], ...                    2\n",
      "2  [[[0, 0, 0], [0, 0, 0], [0, 0, 0], [0, 0, 0], ...                    2\n",
      "3  [[[0, 0, 0], [0, 0, 0], [0, 0, 0], [0, 0, 0], ...                    0\n",
      "4  [[[0, 0, 0], [0, 0, 0], [0, 0, 0], [1, 1, 1], ...                    0\n",
      "                                 fashion_mnist/image  fashion_mnist/label\n",
      "0  [[[0, 0, 0], [0, 0, 0], [0, 0, 0], [0, 0, 0], ...                    3\n",
      "1  [[[0, 0, 0], [0, 0, 0], [0, 0, 0], [0, 0, 0], ...                    7\n",
      "2  [[[0, 0, 0], [0, 0, 0], [0, 0, 0], [0, 0, 0], ...                    8\n",
      "3  [[[0, 0, 0], [0, 0, 0], [0, 0, 0], [0, 0, 0], ...                    7\n",
      "4  [[[0, 0, 0], [0, 0, 0], [0, 0, 0], [0, 0, 0], ...                    6\n"
     ]
    }
   ],
   "execution_count": 16
  },
  {
   "metadata": {},
   "cell_type": "code",
   "outputs": [],
   "execution_count": null,
   "source": "",
   "id": "72658917489b352a"
  }
 ],
 "metadata": {
  "kernelspec": {
   "display_name": "Python 3",
   "language": "python",
   "name": "python3"
  },
  "language_info": {
   "codemirror_mode": {
    "name": "ipython",
    "version": 2
   },
   "file_extension": ".py",
   "mimetype": "text/x-python",
   "name": "python",
   "nbconvert_exporter": "python",
   "pygments_lexer": "ipython2",
   "version": "2.7.6"
  }
 },
 "nbformat": 4,
 "nbformat_minor": 5
}
