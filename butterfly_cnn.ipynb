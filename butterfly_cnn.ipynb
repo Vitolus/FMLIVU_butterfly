{
 "cells": [
  {
   "metadata": {},
   "cell_type": "markdown",
   "source": [
    "# This is the classifier for the butterfly dataset\n",
    "\n",
    "Below there is the machine learning workflow pipeline"
   ],
   "id": "6639a3ac879c7816"
  },
  {
   "metadata": {},
   "cell_type": "markdown",
   "source": "Import packages",
   "id": "4dc1a8e4e90a8d9c"
  },
  {
   "metadata": {},
   "cell_type": "code",
   "outputs": [],
   "execution_count": 15,
   "source": [
    "import mlcroissant as mlc\n",
    "import tensorflow_datasets as tfds\n",
    "import pandas as pd\n",
    "import matplotlib.pyplot as plt\n",
    "import numpy as np"
   ],
   "id": "2c7f966e18fbc4b5"
  }
 ],
 "metadata": {
  "kernelspec": {
   "display_name": "Python 3",
   "language": "python",
   "name": "python3"
  },
  "language_info": {
   "codemirror_mode": {
    "name": "ipython",
    "version": 2
   },
   "file_extension": ".py",
   "mimetype": "text/x-python",
   "name": "python",
   "nbconvert_exporter": "python",
   "pygments_lexer": "ipython2",
   "version": "2.7.6"
  }
 },
 "nbformat": 4,
 "nbformat_minor": 5
}
